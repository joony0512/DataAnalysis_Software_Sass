{
  "nbformat": 4,
  "nbformat_minor": 0,
  "metadata": {
    "colab": {
      "provenance": [],
      "collapsed_sections": [],
      "include_colab_link": true
    },
    "kernelspec": {
      "name": "python3",
      "display_name": "Python 3"
    }
  },
  "cells": [
    {
      "cell_type": "markdown",
      "metadata": {
        "id": "view-in-github",
        "colab_type": "text"
      },
      "source": [
        "<a href=\"https://colab.research.google.com/github/joony0512/SASS/blob/main/%5B6_1%5D_NLTK_%ED%8C%A8%ED%82%A4%EC%A7%80%EB%A5%BC_%ED%99%9C%EC%9A%A9%ED%95%9C_%EA%B7%9C%EC%B9%99_%EA%B8%B0%EB%B0%98_%EA%B5%AC%EA%B5%AC%EC%A1%B0_%EA%B5%AC%EB%AC%B8_%EB%B6%84%EC%84%9D.ipynb\" target=\"_parent\"><img src=\"https://colab.research.google.com/assets/colab-badge.svg\" alt=\"Open In Colab\"/></a>"
      ]
    },
    {
      "cell_type": "markdown",
      "metadata": {
        "id": "yYEltijB06ZT"
      },
      "source": [
        "NLTK 패키지 다운로드"
      ]
    },
    {
      "cell_type": "code",
      "metadata": {
        "id": "KHM-uMujtVMa",
        "colab": {
          "base_uri": "https://localhost:8080/"
        },
        "outputId": "2a22b9b0-3ffb-461d-8204-136f3a817eee"
      },
      "source": [
        "!pip install nltk==3.3"
      ],
      "execution_count": null,
      "outputs": [
        {
          "output_type": "stream",
          "name": "stdout",
          "text": [
            "Looking in indexes: https://pypi.org/simple, https://us-python.pkg.dev/colab-wheels/public/simple/\n",
            "Collecting nltk==3.3\n",
            "  Downloading nltk-3.3.0.zip (1.4 MB)\n",
            "\u001b[K     |████████████████████████████████| 1.4 MB 7.4 MB/s \n",
            "\u001b[?25hRequirement already satisfied: six in /usr/local/lib/python3.7/dist-packages (from nltk==3.3) (1.15.0)\n",
            "Building wheels for collected packages: nltk\n",
            "  Building wheel for nltk (setup.py) ... \u001b[?25l\u001b[?25hdone\n",
            "  Created wheel for nltk: filename=nltk-3.3-py3-none-any.whl size=1394485 sha256=0ead1ff99ab84d812fcd0262ba01e6c844f4993955ee80af4a7dfc078345617c\n",
            "  Stored in directory: /root/.cache/pip/wheels/9b/fd/0c/d92302c876e5de87ebd7fc0979d82edb93e2d8d768bf71fac4\n",
            "Successfully built nltk\n",
            "Installing collected packages: nltk\n",
            "  Attempting uninstall: nltk\n",
            "    Found existing installation: nltk 3.7\n",
            "    Uninstalling nltk-3.7:\n",
            "      Successfully uninstalled nltk-3.7\n",
            "Successfully installed nltk-3.3\n"
          ]
        }
      ]
    },
    {
      "cell_type": "code",
      "metadata": {
        "id": "V3qhCA7E1KM7"
      },
      "source": [
        "\n",
        "import nltk"
      ],
      "execution_count": null,
      "outputs": []
    },
    {
      "cell_type": "markdown",
      "metadata": {
        "id": "PnPk00ii1v2M"
      },
      "source": [
        "구구조 구문 분석 규칙 작성"
      ]
    },
    {
      "cell_type": "code",
      "metadata": {
        "id": "qRi1nlY-147c"
      },
      "source": [
        "grammar = nltk.CFG.fromstring(\"\"\"\n",
        "S -> NP VP\n",
        "NP -> NN XSN JK | NN JK\n",
        "VP -> NP VP | VV EP EF\n",
        "NN -> '아이' | '케이크'\n",
        "XSN -> '들'\n",
        "JK -> '이' | '를'\n",
        "VV -> '먹'\n",
        "EP -> '었'\n",
        "EF -> '다'\n",
        "\"\"\")"
      ],
      "execution_count": null,
      "outputs": []
    },
    {
      "cell_type": "markdown",
      "metadata": {
        "id": "M3LzGE3h2n4Y"
      },
      "source": [
        "규칙 기반 구문 분석기 생성 및 구구조 구문 분석 수행\n",
        "\n",
        "제시된 ChartParser 외에도 ShiftReduceParser, RecursiveDescentParser 등\n",
        "\n",
        "다양한 구문 분석 알고리즘이 제공된다."
      ]
    },
    {
      "cell_type": "code",
      "metadata": {
        "id": "P1GVyHyo3LJN"
      },
      "source": [
        "parser = nltk.ChartParser(grammar)"
      ],
      "execution_count": null,
      "outputs": []
    },
    {
      "cell_type": "code",
      "metadata": {
        "id": "dGcLUDfj3SZP"
      },
      "source": [
        "sent = ['아이', '들', '이', '케이크', '를', '먹', '었', '다']"
      ],
      "execution_count": null,
      "outputs": []
    },
    {
      "cell_type": "code",
      "metadata": {
        "id": "z_8CRCs03gxw",
        "colab": {
          "base_uri": "https://localhost:8080/"
        },
        "outputId": "bd46efdf-42bb-4ca7-e7be-a737ba67916c"
      },
      "source": [
        "for tree in parser.parse(sent):\n",
        "  print(tree)"
      ],
      "execution_count": null,
      "outputs": [
        {
          "output_type": "stream",
          "name": "stdout",
          "text": [
            "(S\n",
            "  (NP (NN 아이) (XSN 들) (JK 이))\n",
            "  (VP (NP (NN 케이크) (JK 를)) (VP (VV 먹) (EP 었) (EF 다))))\n"
          ]
        }
      ]
    },
    {
      "cell_type": "code",
      "source": [],
      "metadata": {
        "id": "L3snffTXDGek"
      },
      "execution_count": null,
      "outputs": []
    }
  ]
}